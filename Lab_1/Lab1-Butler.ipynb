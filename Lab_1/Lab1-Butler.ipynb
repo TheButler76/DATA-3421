{
 "cells": [
  {
   "cell_type": "markdown",
   "id": "4cad6217",
   "metadata": {},
   "source": [
    "### Nathan Butler | 1001805566"
   ]
  },
  {
   "cell_type": "markdown",
   "id": "57b30052",
   "metadata": {},
   "source": [
    "#### First, we must load the data using pandas."
   ]
  },
  {
   "cell_type": "code",
   "execution_count": 71,
   "id": "95ab2fb5",
   "metadata": {},
   "outputs": [],
   "source": [
    "import pandas as pd\n",
    "import matplotlib.pyplot as plt\n",
    "\n",
    "# We load the data first\n",
    "data = pd.read_csv(\"house_prices.csv\")"
   ]
  },
  {
   "cell_type": "markdown",
   "id": "f3e52da4",
   "metadata": {},
   "source": [
    "#### 1.) Data Understanding: Print the data types of each column and use descriptive statistics to understand the data."
   ]
  },
  {
   "cell_type": "markdown",
   "id": "a84e4993",
   "metadata": {},
   "source": [
    "> ##### a.) Identify and justify the appropriateness of the data types for each attribute. Suggest changes if necessary.\n",
    "\n",
    "> ##### b.) What does the statistical summary tell you about potential issues with data quality, such as range problems, missing values, or format inconsistencies?\n",
    "\n",
    "> ##### c.) If there is a typo issue, fix it."
   ]
  },
  {
   "cell_type": "code",
   "execution_count": 72,
   "id": "c9a9580b",
   "metadata": {},
   "outputs": [
    {
     "data": {
      "text/plain": [
       "ID              int64\n",
       "Size(sqft)    float64\n",
       "Bedrooms      float64\n",
       "Badhrooms     float64\n",
       "Location       object\n",
       "House_Type     object\n",
       "Year_Built    float64\n",
       "Date_Sold      object\n",
       "Price         float64\n",
       "dtype: object"
      ]
     },
     "execution_count": 72,
     "metadata": {},
     "output_type": "execute_result"
    }
   ],
   "source": [
    "data.dtypes"
   ]
  },
  {
   "cell_type": "markdown",
   "id": "dfef38ee",
   "metadata": {},
   "source": [
    "### (a) Suggested Changes:\n",
    "> ##### dropna first, we do not need missing values here.\n",
    "> ##### turn Bedrooms to type int\n",
    "> ##### rename Badhrooms -> Bathrooms and turn to type int\n",
    "> ##### turn Year_Built to type int\n",
    "> ##### turn Date_Sold to datetime"
   ]
  },
  {
   "cell_type": "code",
   "execution_count": 73,
   "id": "db57f174",
   "metadata": {},
   "outputs": [
    {
     "data": {
      "text/html": [
       "<div>\n",
       "<style scoped>\n",
       "    .dataframe tbody tr th:only-of-type {\n",
       "        vertical-align: middle;\n",
       "    }\n",
       "\n",
       "    .dataframe tbody tr th {\n",
       "        vertical-align: top;\n",
       "    }\n",
       "\n",
       "    .dataframe thead th {\n",
       "        text-align: right;\n",
       "    }\n",
       "</style>\n",
       "<table border=\"1\" class=\"dataframe\">\n",
       "  <thead>\n",
       "    <tr style=\"text-align: right;\">\n",
       "      <th></th>\n",
       "      <th>ID</th>\n",
       "      <th>Size(sqft)</th>\n",
       "      <th>Bedrooms</th>\n",
       "      <th>Badhrooms</th>\n",
       "      <th>Year_Built</th>\n",
       "      <th>Price</th>\n",
       "    </tr>\n",
       "  </thead>\n",
       "  <tbody>\n",
       "    <tr>\n",
       "      <th>count</th>\n",
       "      <td>110.000000</td>\n",
       "      <td>98.000000</td>\n",
       "      <td>102.000000</td>\n",
       "      <td>90.000000</td>\n",
       "      <td>99.000000</td>\n",
       "      <td>1.050000e+02</td>\n",
       "    </tr>\n",
       "    <tr>\n",
       "      <th>mean</th>\n",
       "      <td>55.500000</td>\n",
       "      <td>17912.581633</td>\n",
       "      <td>14.813725</td>\n",
       "      <td>12.677778</td>\n",
       "      <td>11554.797980</td>\n",
       "      <td>1.424262e+06</td>\n",
       "    </tr>\n",
       "    <tr>\n",
       "      <th>std</th>\n",
       "      <td>31.898276</td>\n",
       "      <td>72463.968277</td>\n",
       "      <td>65.929114</td>\n",
       "      <td>50.381874</td>\n",
       "      <td>42931.458381</td>\n",
       "      <td>1.239105e+07</td>\n",
       "    </tr>\n",
       "    <tr>\n",
       "      <th>min</th>\n",
       "      <td>1.000000</td>\n",
       "      <td>-4529.000000</td>\n",
       "      <td>-3.000000</td>\n",
       "      <td>-3.000000</td>\n",
       "      <td>-1991.000000</td>\n",
       "      <td>-4.494570e+07</td>\n",
       "    </tr>\n",
       "    <tr>\n",
       "      <th>25%</th>\n",
       "      <td>28.250000</td>\n",
       "      <td>1415.500000</td>\n",
       "      <td>2.000000</td>\n",
       "      <td>1.000000</td>\n",
       "      <td>1918.500000</td>\n",
       "      <td>2.913350e+05</td>\n",
       "    </tr>\n",
       "    <tr>\n",
       "      <th>50%</th>\n",
       "      <td>55.500000</td>\n",
       "      <td>2544.500000</td>\n",
       "      <td>3.000000</td>\n",
       "      <td>2.000000</td>\n",
       "      <td>1949.000000</td>\n",
       "      <td>4.535310e+05</td>\n",
       "    </tr>\n",
       "    <tr>\n",
       "      <th>75%</th>\n",
       "      <td>82.750000</td>\n",
       "      <td>3803.500000</td>\n",
       "      <td>5.000000</td>\n",
       "      <td>3.000000</td>\n",
       "      <td>1990.000000</td>\n",
       "      <td>7.485310e+05</td>\n",
       "    </tr>\n",
       "    <tr>\n",
       "      <th>max</th>\n",
       "      <td>110.000000</td>\n",
       "      <td>497400.000000</td>\n",
       "      <td>500.000000</td>\n",
       "      <td>300.000000</td>\n",
       "      <td>200800.000000</td>\n",
       "      <td>7.481430e+07</td>\n",
       "    </tr>\n",
       "  </tbody>\n",
       "</table>\n",
       "</div>"
      ],
      "text/plain": [
       "               ID     Size(sqft)    Bedrooms   Badhrooms     Year_Built  \\\n",
       "count  110.000000      98.000000  102.000000   90.000000      99.000000   \n",
       "mean    55.500000   17912.581633   14.813725   12.677778   11554.797980   \n",
       "std     31.898276   72463.968277   65.929114   50.381874   42931.458381   \n",
       "min      1.000000   -4529.000000   -3.000000   -3.000000   -1991.000000   \n",
       "25%     28.250000    1415.500000    2.000000    1.000000    1918.500000   \n",
       "50%     55.500000    2544.500000    3.000000    2.000000    1949.000000   \n",
       "75%     82.750000    3803.500000    5.000000    3.000000    1990.000000   \n",
       "max    110.000000  497400.000000  500.000000  300.000000  200800.000000   \n",
       "\n",
       "              Price  \n",
       "count  1.050000e+02  \n",
       "mean   1.424262e+06  \n",
       "std    1.239105e+07  \n",
       "min   -4.494570e+07  \n",
       "25%    2.913350e+05  \n",
       "50%    4.535310e+05  \n",
       "75%    7.485310e+05  \n",
       "max    7.481430e+07  "
      ]
     },
     "execution_count": 73,
     "metadata": {},
     "output_type": "execute_result"
    }
   ],
   "source": [
    "data.describe()"
   ]
  },
  {
   "cell_type": "markdown",
   "id": "5cb5563a",
   "metadata": {},
   "source": [
    "### (b) Statistical Summary:\n",
    "> ##### The statistical summary tells us that there are problems with each attribute. Some are negative values and some have numbers that use natural logarithms"
   ]
  },
  {
   "cell_type": "code",
   "execution_count": 74,
   "id": "3d12cf00",
   "metadata": {},
   "outputs": [],
   "source": [
    "data.rename(columns={\"Badhrooms\": \"Bathrooms\"}, inplace=True)"
   ]
  },
  {
   "cell_type": "markdown",
   "id": "875a0334",
   "metadata": {},
   "source": [
    "### (c) Typo Issues:\n",
    "> ##### Fixed the typos."
   ]
  },
  {
   "cell_type": "markdown",
   "id": "afd636f2",
   "metadata": {},
   "source": [
    "#### 2.) Identifying and Handling Missing Values: Identify missing values in the dataset and propose methods to handle them."
   ]
  },
  {
   "cell_type": "markdown",
   "id": "a00a5984",
   "metadata": {},
   "source": [
    "> ##### a.) What patterns of missing data did you observe in the dataset?\n",
    "\n",
    "> ##### b.) How will you handle the missing values? Justify your approach."
   ]
  },
  {
   "cell_type": "code",
   "execution_count": 75,
   "id": "99dba994",
   "metadata": {},
   "outputs": [
    {
     "data": {
      "text/plain": [
       "ID             0\n",
       "Size(sqft)    12\n",
       "Bedrooms       8\n",
       "Bathrooms     20\n",
       "Location      10\n",
       "House_Type    15\n",
       "Year_Built    11\n",
       "Date_Sold     10\n",
       "Price          5\n",
       "dtype: int64"
      ]
     },
     "execution_count": 75,
     "metadata": {},
     "output_type": "execute_result"
    }
   ],
   "source": [
    "data.isna().sum()"
   ]
  },
  {
   "cell_type": "markdown",
   "id": "ab7f8bd6",
   "metadata": {},
   "source": [
    "### (a) Missing Data Patterns:\n",
    "> ##### In order to see if deleting any missing values would greatly change the shape of the data set, I gathered total count of missing values for each attribute."
   ]
  },
  {
   "cell_type": "code",
   "execution_count": 76,
   "id": "0f12a5b5",
   "metadata": {},
   "outputs": [],
   "source": [
    "data.dropna(inplace=True)"
   ]
  },
  {
   "cell_type": "markdown",
   "id": "6ab53a0d",
   "metadata": {},
   "source": [
    "### (b) Handling Missing Data:\n",
    "> #####  I decided that it would be okay to just delete the missing values because there were not many relative to the length of the data set."
   ]
  },
  {
   "cell_type": "markdown",
   "id": "4c6937cd",
   "metadata": {},
   "source": [
    "#### 3.) Detecting and Correcting Invalid Entries: Identify and correct invalid entries in the dataset (e.g., negative values in columns where only positive values are appropriate, unrealistic dates, or other logical inconsistencies). Also, If there is a typo issue, fix it."
   ]
  },
  {
   "cell_type": "markdown",
   "id": "b74c359a",
   "metadata": {},
   "source": [
    "> ##### a.) What invalid entries did you find in the dataset? Provide examples.\n",
    "\n",
    "> ##### b.) Explain the steps you took to correct these invalid entries, and justify your methods."
   ]
  },
  {
   "cell_type": "code",
   "execution_count": 77,
   "id": "2070fc51",
   "metadata": {},
   "outputs": [],
   "source": [
    "data.head()\n",
    "data_pos_nums = data[\n",
<<<<<<< HEAD
    "    (data['Size(sqft)'] > 0) &\\\n",
    "    (data['Bedrooms'] > 0) &\\\n",
    "    (data['Year_Built'] > 0) &\\\n",
    "    (data['Price'] > 0) &\\\n",
    "    (data['Bathrooms'] > 0) &\\\n",
    "    (data['Price'] < 1000000)].copy()"
=======
    "(data['Size(sqft)'] > 0) &\\\n",
    "(data['Bedrooms'] > 0) &\\\n",
    "(data['Year_Built'] > 0) &\\\n",
    "(data['Price'] > 0) &\\\n",
    "(data['Price'] < 1000000) &\\\n",
    "(data['Bathrooms'] > 0)].copy()\n"
>>>>>>> ba4acaf41611c60716f55ce53b796a554400a9d8
   ]
  },
  {
   "cell_type": "code",
   "execution_count": 78,
   "id": "a9351c13",
   "metadata": {},
   "outputs": [],
   "source": [
    "data_pos_nums\n",
    "data_cleaned = data_pos_nums[\n",
<<<<<<< HEAD
    "    (data_pos_nums['Bathrooms'] < 4) &\\\n",
    "    (data_pos_nums['Size(sqft)'] < 10000)].reset_index(drop=True)\n",
=======
    "(data_pos_nums['Bathrooms'] < 4) &\\\n",
    "(data_pos_nums['Size(sqft)'] < 10000)].reset_index(drop=True)\n",
    "\n",
>>>>>>> ba4acaf41611c60716f55ce53b796a554400a9d8
    "data_cleaned_2 = data_cleaned.drop(\n",
    "    index=([8,13,15,24]), axis=1).reset_index(drop=True).copy()"
   ]
  },
  {
   "cell_type": "code",
   "execution_count": 79,
   "id": "148de365",
   "metadata": {},
   "outputs": [
    {
     "data": {
      "text/plain": [
       "RangeIndex(start=0, stop=23, step=1)"
      ]
     },
     "execution_count": 79,
     "metadata": {},
     "output_type": "execute_result"
    }
   ],
   "source": [
    "data_cleaned_2.index"
   ]
  },
  {
   "cell_type": "markdown",
   "id": "6926e43f",
   "metadata": {},
   "source": [
    "### (a) Invalid Entries:\n",
    "> #####  I saw that there were negative values in a few of the attributes, and in the `House_Type` column, there were integer values when there should only be strings."
   ]
  },
  {
   "cell_type": "markdown",
   "id": "7b5d1127",
   "metadata": {},
   "source": [
    "### (b) Correcting invalid entries:\n",
    "> #####  I hard coded a bit, and filtered for values that fit within a column's range, then I manually deleted all index rows that had an integer for the `House_Type` column."
   ]
  },
  {
   "cell_type": "markdown",
   "id": "26863b4d",
   "metadata": {},
   "source": [
    "#### 4. Addressing Duplicate Records: Identify and remove duplicate records from the dataset.\n",
    "> #### (a) How did you identify duplicate records in the dataset?\n",
    "> #### (b) What criteria did you use to decide which duplicates to remove, if any? Justify your approach."
   ]
  },
  {
   "cell_type": "code",
   "execution_count": 80,
   "id": "1bef955c",
   "metadata": {},
   "outputs": [
    {
     "data": {
      "text/plain": [
       "RangeIndex(start=0, stop=23, step=1)"
      ]
     },
     "execution_count": 80,
     "metadata": {},
     "output_type": "execute_result"
    }
   ],
   "source": [
    "data_cleaned_2.drop_duplicates()\n",
    "data_cleaned_2.index"
   ]
  },
  {
   "cell_type": "markdown",
   "id": "183c47e0",
   "metadata": {},
   "source": [
    "### (a) Duplicate Entry Identification:\n",
    "> #####  I used `data_cleaned_2.index` to get the length of the data set. I used `.drop_duplicates` and then `data_cleaned.index` to compare lengths."
   ]
  },
  {
   "cell_type": "markdown",
   "id": "e5d14a13",
   "metadata": {},
   "source": [
    "### (b) Duplicate Entry Handling:\n",
    "> #####  I did not find any duplicate entries."
   ]
  },
  {
   "cell_type": "markdown",
   "id": "d8c458d8",
   "metadata": {},
   "source": [
    "#### 5.) Data Range Issues: Identify and address any data range issues (e.g., values outside expected ranges, negative sizes, or dates in the future)."
   ]
  },
  {
   "cell_type": "markdown",
   "id": "23a32aaf",
   "metadata": {},
   "source": [
    "### (a) What range issues did you find in the dataset? Provide specific examples.\n",
    "> #### addressed in step 3. I got rid of the negative values in the data set.\n",
    "\n",
    "### (b) How did you address these range issues? Explain and justify your approach.\n",
    "> ### I filtered out the rows using conditional statements."
   ]
  },
  {
   "cell_type": "markdown",
   "id": "45d72396-0869-4f37-9df4-7b457241845a",
   "metadata": {},
   "source": [
    "#### 6.) Format Inconsistencies: Identify and correct any format inconsistencies in the dataset (e.g., inconsistent date formats, units, or text formats)."
   ]
  },
  {
   "cell_type": "code",
   "execution_count": 101,
   "id": "eaf35176-875e-479c-824c-b0a4cdb4050a",
   "metadata": {},
   "outputs": [],
   "source": [
    "data_cleaned_2 = data_cleaned_2.astype(\n",
    "    {\n",
    "        'ID':'int8',\n",
    "        'Size(sqft)':'int8',\n",
    "        'Bedrooms':'int8',\n",
    "        'Bathrooms':'int8',\n",
    "        'Location':'category',\n",
    "        'House_Type':'category',\n",
    "        'Year_Built':'int16',\n",
    "        'Date_Sold':'datetime64[ns]',\n",
    "        'Price':'float32'}\n",
    "    , copy=True, errors='raise')"
   ]
  },
  {
   "cell_type": "code",
   "execution_count": 102,
   "id": "2c0bec5f-e0e3-4981-a85a-9658dca1a8f3",
   "metadata": {},
   "outputs": [
    {
     "data": {
      "text/plain": [
       "ID                      int8\n",
       "Size(sqft)              int8\n",
       "Bedrooms                int8\n",
       "Bathrooms               int8\n",
       "Location            category\n",
       "House_Type          category\n",
       "Year_Built             int16\n",
       "Date_Sold     datetime64[ns]\n",
       "Price                float32\n",
       "dtype: object"
      ]
     },
     "execution_count": 102,
     "metadata": {},
     "output_type": "execute_result"
    }
   ],
   "source": [
    "data_cleaned_2.dtypes"
   ]
  },
  {
   "cell_type": "markdown",
   "id": "2f8b4f12",
   "metadata": {},
   "source": [
    "### (a) What format inconsistencies did you find in the dataset? Provide examples.\n",
    "> #### In question one, I saw the data types for each column and realized they were defaults. For example: int64, float64, and objects.\n",
    "\n",
    "### (b) Explain how you standardized these formats and why it is important to do so.\n",
    "> ### I converted datatypes to the minimum types, doing this would improve memory performance and make loading our data faster."
   ]
  },
  {
   "cell_type": "markdown",
   "id": "59e4a8b1",
   "metadata": {},
   "source": [
    "#### 7.) 7. Misclassified Data: Detect and correct any misclassified data within the dataset (e.g., numeric data in text fields or vice versa).\n",
    "### (a) What misclassified data did you identify in the dataset?\n",
    "> ### I saw that there were integer values in certain columns.\n",
    "\n",
    "### (b) How did you correct these misclassifications, and why did you choose these methods?\n",
    "> #### I manually deleted indexes in step 3."
   ]
  },
  {
   "cell_type": "markdown",
   "id": "2b531999",
   "metadata": {},
   "source": [
    "#### 8. Data Visualization: Use visualizations to identify patterns, inconsistencies, or outliers in the dataset."
   ]
  },
  {
   "cell_type": "markdown",
   "id": "8a2f6187-3d94-4c89-aab9-14827876ab78",
   "metadata": {},
   "source": [
    "> #### (a) Which visualizations did you use to explore the data, and what insights did they provide?\n",
    "> #### (b) How did these visualizations help in identifying inconsistencies, outliers, or other data quality issues?"
   ]
  },
  {
   "cell_type": "code",
   "execution_count": 309,
   "id": "ba9203fa",
   "metadata": {},
   "outputs": [],
   "source": [
    "import numpy as np\n",
    "class Data_Visual:\n",
    "    def __init__(self):\n",
    "        plt.figure(figsize=(8,6))\n",
    "        self.year_sorted = data_cleaned_2.sort_values('Year_Built')\n",
    "\n",
    "        # calculating the statistics for house prices ==============\n",
    "        self.prices = data_cleaned_2['Price']\n",
    "        self.prices_mean = self.prices.mean()\n",
    "        self.prices_std = self.prices.std()\n",
    "        self.prices_median = self.prices.median()\n",
    "        self.prices_z_scores = np.array((self.prices - self.prices_mean) / self.prices_std)\n",
    "        # ==========================================================\n",
    "        \n",
    "    def scatter_price_by_year(self):    \n",
    "        plt.scatter(data=self.year_sorted, x='Year_Built', y='Price')\n",
    "        plt.title(\"Housing Price by Year Built\")\n",
    "        plt.ylabel(\"Price (per $100,000)\")\n",
    "        plt.xlabel(\"Year Built\")\n",
    "        plt.xticks(rotation=45)\n",
    "        plt.show()        \n",
    "        # ==========================================================\n",
    "    def histogram_prices(self):\n",
    "        # plotting\n",
    "        plt.hist(self.prices_z_scores,\n",
    "                 bins=10,\n",
    "                 density=True,\n",
    "                 cumulative=False,\n",
    "                 alpha=0.9)\n",
    "        plt.title(\"Normal Standard Distribution of Housing Prices\")\n",
    "        plt.ylabel(\"Percent\")\n",
    "        plt.ylim(0,1)\n",
    "        plt.xlim(-3,3)\n",
    "        plt.xlabel(\"Prices\")\n",
    "        plt.xticks(rotation=45)\n",
    "        plt.figtext(0,\n",
    "                    -0.23,\n",
    "                    f\"\"\"\n",
    "                    Mean Price: {self.prices_mean}\\n\n",
    "                    Median Price: {self.prices_median}\\n\n",
    "                    Standard Deviation: {self.prices_std}\n",
    "                    \"\"\")\n",
    "        plt.show()\n",
    "        # ==========================================================\n",
    "    def histogram_many(self):\n",
    "        for column in data_cleaned_2.columns:\n",
    "            if column==\"ID\":\n",
    "                continue\n",
    "            elif data_cleaned_2[column].dtype=='int8' and 'int16' and 'float32':\n",
    "                col = data_cleaned_2[column]\n",
    "                col_mean = col.mean()\n",
    "                col_std = col.std()\n",
    "                col_median = col.median()\n",
    "                col_z_scores = np.array((col - col_mean) / col_std)\n",
    "                self.histogram_container(column, col_z_scores, col_mean, col_median, col_std)\n",
    "\n",
    "        # ==========================================================\n",
    "    def histogram_container(self, column, col_z_scores, col_mean, col_median, col_std):\n",
    "        # plotting\n",
    "        plt.hist(col_z_scores,\n",
    "                 bins=15,\n",
    "                 density=True,\n",
    "                 cumulative=False,\n",
    "                 alpha=0.9)\n",
    "        plt.title(f\"Normal Standard Distribution of {column}\")\n",
    "        plt.ylabel(\"Percent\")\n",
    "        plt.ylim(0,1)\n",
    "        plt.xlim(-3,3)\n",
    "        plt.xlabel(f\"{column}\")\n",
    "        plt.xticks(rotation=45)\n",
    "        plt.figtext(0,\n",
    "                    -0.23,\n",
    "                    f\"\"\"\n",
    "                    Mean {column}: {col_mean}\\n\n",
    "                    Median {column}: {col_median}\\n\n",
    "                    Standard Deviation: {col_std}\n",
    "                    \"\"\")\n",
    "        plt.show()\n",
    "        # ==========================================================\n",
    "    def house_type_bar(self):\n",
    "        house_type = data_cleaned_2['House_Type'].value_counts()\n",
    "        plt.bar(x=house_type.index, height=house_type.values)\n",
    "        plt.title(\"Freq of Housing Type\")\n",
    "        plt.ylabel(\"Type\")\n",
    "        plt.xlabel(\"Frequency\")\n",
    "        plt.xticks(rotation=45)\n",
    "        plt.show()\n",
    " "
   ]
  },
  {
   "cell_type": "code",
   "execution_count": 313,
   "id": "d2f9af91-3348-4926-aaa8-1f7afa26a340",
   "metadata": {},
   "outputs": [
    {
     "data": {
      "image/png": "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",
      "text/plain": [
       "<Figure size 800x600 with 1 Axes>"
      ]
     },
     "metadata": {},
     "output_type": "display_data"
    }
   ],
   "source": [
    "Viz = Data_Visual()\n",
    "Viz.scatter_price_by_year()\n",
    "Viz.histogram_many()\n",
    "Viz.histogram_prices()\n",
    "Viz.house_type_bar()"
   ]
  },
  {
   "cell_type": "code",
   "execution_count": null,
   "id": "7c34ca01",
   "metadata": {},
   "outputs": [],
   "source": []
  },
  {
   "cell_type": "code",
   "execution_count": null,
   "id": "83637aaa-fe5f-424b-9a64-155ecaa578d6",
   "metadata": {},
   "outputs": [],
   "source": []
  }
 ],
 "metadata": {
  "kernelspec": {
   "display_name": "Python 3 (ipykernel)",
   "language": "python",
   "name": "python3"
  },
  "language_info": {
   "codemirror_mode": {
    "name": "ipython",
    "version": 3
   },
   "file_extension": ".py",
   "mimetype": "text/x-python",
   "name": "python",
   "nbconvert_exporter": "python",
   "pygments_lexer": "ipython3",
   "version": "3.10.12"
  }
 },
 "nbformat": 4,
 "nbformat_minor": 5
}
